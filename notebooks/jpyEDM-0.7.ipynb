{
 "cells": [
  {
   "cell_type": "code",
   "execution_count": null,
   "id": "contemporary-rugby",
   "metadata": {
    "scrolled": false
   },
   "outputs": [],
   "source": [
    "%matplotlib notebook\n",
    "from jpyEDM_init import *"
   ]
  },
  {
   "cell_type": "code",
   "execution_count": null,
   "id": "civic-communications",
   "metadata": {},
   "outputs": [],
   "source": [
    "# To access the EDM return object, reference EDM.dataFrameOut\n",
    "# EDM.dataFrameOut['predictions']"
   ]
  }
 ],
 "metadata": {
  "kernelspec": {
   "display_name": "Python 3 (ipykernel)",
   "language": "python",
   "name": "python3"
  },
  "language_info": {
   "codemirror_mode": {
    "name": "ipython",
    "version": 3
   },
   "file_extension": ".py",
   "mimetype": "text/x-python",
   "name": "python",
   "nbconvert_exporter": "python",
   "pygments_lexer": "ipython3",
   "version": "3.10.6"
  }
 },
 "nbformat": 4,
 "nbformat_minor": 5
}
