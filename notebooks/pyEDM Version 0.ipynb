{
 "cells": [
  {
   "cell_type": "code",
   "execution_count": null,
   "id": "contemporary-rugby",
   "metadata": {
    "scrolled": false
   },
   "outputs": [],
   "source": [
    "%matplotlib notebook\n",
    "from jpyEDM_init import *"
   ]
  },
  {
   "cell_type": "code",
   "execution_count": null,
   "id": "naval-vermont",
   "metadata": {},
   "outputs": [],
   "source": [
    "# To load an external Pandas DataFrame, assign it to EDM.dataFrameIn, Press Data -> Import\n",
    "# EDM.dataFrameIn = EDM.read_csv('../data/Lorenz5D.csv')"
   ]
  },
  {
   "cell_type": "code",
   "execution_count": null,
   "id": "civic-communications",
   "metadata": {},
   "outputs": [],
   "source": [
    "# To access the EDM return object, reference EDM.dataFrameOut\n",
    "# EDM.dataFrameOut['coefficients']"
   ]
  }
 ],
 "metadata": {
  "kernelspec": {
   "display_name": "Python 3 (ipykernel)",
   "language": "python",
   "name": "python3"
  },
  "language_info": {
   "codemirror_mode": {
    "name": "ipython",
    "version": 3
   },
   "file_extension": ".py",
   "mimetype": "text/x-python",
   "name": "python",
   "nbconvert_exporter": "python",
   "pygments_lexer": "ipython3",
   "version": "3.8.10"
  }
 },
 "nbformat": 4,
 "nbformat_minor": 5
}
