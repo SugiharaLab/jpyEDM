{
 "cells": [
  {
   "cell_type": "code",
   "execution_count": null,
   "id": "contemporary-rugby",
   "metadata": {
    "scrolled": false
   },
   "outputs": [],
   "source": [
    "%matplotlib notebook\n",
    "from jpyEDM_init import *"
   ]
  },
  {
   "cell_type": "code",
   "execution_count": null,
   "id": "naval-vermont",
   "metadata": {},
   "outputs": [],
   "source": [
    "EDM.dataFrameIn = EDM.read_csv('../data/Lorenz5D.csv') # Press Data -> Import"
   ]
  },
  {
   "cell_type": "code",
   "execution_count": null,
   "id": "civic-communications",
   "metadata": {},
   "outputs": [],
   "source": [
    "EDM.dataFrameOut['coefficients']"
   ]
  },
  {
   "cell_type": "code",
   "execution_count": null,
   "id": "flying-example",
   "metadata": {},
   "outputs": [],
   "source": []
  }
 ],
 "metadata": {
  "kernelspec": {
   "display_name": "Python 3 (ipykernel)",
   "language": "python",
   "name": "python3"
  },
  "language_info": {
   "codemirror_mode": {
    "name": "ipython",
    "version": 3
   },
   "file_extension": ".py",
   "mimetype": "text/x-python",
   "name": "python",
   "nbconvert_exporter": "python",
   "pygments_lexer": "ipython3",
   "version": "3.8.10"
  }
 },
 "nbformat": 4,
 "nbformat_minor": 5
}
